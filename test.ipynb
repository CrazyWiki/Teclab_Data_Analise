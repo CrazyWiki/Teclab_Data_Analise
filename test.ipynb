{
 "cells": [
  {
   "cell_type": "code",
   "id": "initial_id",
   "metadata": {
    "collapsed": true,
    "ExecuteTime": {
     "end_time": "2025-08-30T02:04:14.792049Z",
     "start_time": "2025-08-30T02:04:14.765103Z"
    }
   },
   "source": [
    "import pandas as pd\n",
    "import numpy as np\n",
    "try:\n",
    "    df_poblacion = pd.read_csv('/Users/victoryzelova/Desktop/TEclab/Analisis datos/API2/ARCHIVOS/poblacion.csv', encoding='latin-1')\n",
    "    df_hogares = pd.read_csv('/Users/victoryzelova/Desktop/TEclab/Analisis datos/API2/ARCHIVOS/hogares_viviendas_superficie.csv', encoding ='latin-1')\n",
    "except FileNotFoundError:\n",
    "    print('No se encuentra el archivo')\n",
    "print(\"--- Información de df_poblacion ---\")\n",
    "df_poblacion.info()   \n",
    "print(\"\\n\\n--- Información de hogares ---\")\n",
    "df_hogares.info()\n",
    "print(\"\\n\\n___primeras 5 filas del archivo poblacion__\")\n",
    "print(df_poblacion.head(5))\n",
    "print(\"\\n\\n___primeras 5 filas del archivo hogares__\")\n",
    "print(df_hogares.head(5))"
   ],
   "outputs": [
    {
     "name": "stdout",
     "output_type": "stream",
     "text": [
      "--- Información de df_poblacion ---\n",
      "<class 'pandas.core.frame.DataFrame'>\n",
      "RangeIndex: 775 entries, 0 to 774\n",
      "Data columns (total 5 columns):\n",
      " #   Column             Non-Null Count  Dtype \n",
      "---  ------             --------------  ----- \n",
      " 0   provincia          775 non-null    object\n",
      " 1   anio               775 non-null    int64 \n",
      " 2   poblacion_total    775 non-null    int64 \n",
      " 3   poblacion_varones  775 non-null    int64 \n",
      " 4   poblacion_mujeres  775 non-null    int64 \n",
      "dtypes: int64(4), object(1)\n",
      "memory usage: 30.4+ KB\n",
      "\n",
      "\n",
      "--- Información de hogares ---\n",
      "<class 'pandas.core.frame.DataFrame'>\n",
      "RangeIndex: 24 entries, 0 to 23\n",
      "Data columns (total 6 columns):\n",
      " #   Column                            Non-Null Count  Dtype \n",
      "---  ------                            --------------  ----- \n",
      " 0   provincia_id                      24 non-null     int64 \n",
      " 1   provincia                         24 non-null     object\n",
      " 2   hogares                           24 non-null     int64 \n",
      " 3   viviendas_particulares            24 non-null     int64 \n",
      " 4   viviendas_particulares_habitadas  24 non-null     int64 \n",
      " 5   superficie_km2                    24 non-null     int64 \n",
      "dtypes: int64(5), object(1)\n",
      "memory usage: 1.3+ KB\n",
      "\n",
      "\n",
      "___primeras 5 filas del archivo poblacion__\n",
      "    provincia  anio  poblacion_total  poblacion_varones  poblacion_mujeres\n",
      "0  Total País  2010         40788453           19940704           20847749\n",
      "1  Total País  2011         41261490           20180791           21080699\n",
      "2  Total País  2012         41733271           20420391           21312880\n",
      "3  Total País  2013         42202935           20659037           21543898\n",
      "4  Total País  2014         42669500           20896203           21773297\n",
      "\n",
      "\n",
      "___primeras 5 filas del archivo hogares__\n",
      "   provincia_id        provincia  hogares  viviendas_particulares  \\\n",
      "0             2  Capital Federal  1150134                 1423973   \n",
      "1             6     Buenos Aires  4789484                 5377786   \n",
      "2            10        Catamarca    96001                  113634   \n",
      "3            14          Córdoba  1031843                 1232211   \n",
      "4            18       Corrientes   267797                  292644   \n",
      "\n",
      "   viviendas_particulares_habitadas  superficie_km2  \n",
      "0                           1082998             200  \n",
      "1                           4425193          307571  \n",
      "2                             89376          102602  \n",
      "3                            978553          165321  \n",
      "4                            248844           88199  \n"
     ]
    }
   ],
   "execution_count": 33
  },
  {
   "metadata": {
    "ExecuteTime": {
     "end_time": "2025-08-30T01:22:05.415748Z",
     "start_time": "2025-08-30T01:22:05.403191Z"
    }
   },
   "cell_type": "code",
   "source": [
    "df_poblacion_2025 = df_poblacion[df_poblacion['anio'] == 2025].copy()  \n",
    "df_poblacion_clean = df_poblacion_2025[['provincia','poblacion_total']]\n",
    "df_hogares_clean = df_hogares[['provincia','superficie_km2']]\n",
    "df_integrado = pd.merge(df_poblacion_clean, df_hogares_clean, on='provincia')\n",
    "df_integrado= df_integrado[df_integrado['provincia']!='Total País']\n",
    "df_integrado['densidad_poblacion'] = df_integrado['poblacion_total']/df_integrado['superficie_km2']\n",
    "print(\"\\n--- Tabla: Densidad de población por provincia (Proyección 2025) ---\")\n",
    "print(df_integrado)\n",
    "print(\"\\n\\n--- Estadísticas: Resumen descriptivo para la columna 'densidad_poblacion' ---\")\n",
    "print(df_integrado['densidad_poblacion'].describe())"
   ],
   "id": "3bcb6e91a01b56f8",
   "outputs": [
    {
     "name": "stdout",
     "output_type": "stream",
     "text": [
      "\n",
      "--- Tabla: Densidad de población por provincia (Proyección 2025) ---\n",
      "              provincia  poblacion_total  superficie_km2  densidad_poblacion\n",
      "0       Capital Federal          3086680             200        15433.400000\n",
      "1          Buenos Aires         18359753          307571           59.692731\n",
      "2             Catamarca           432438          102602            4.214713\n",
      "3               Córdoba          3945677          165321           23.866762\n",
      "4            Corrientes          1165860           88199           13.218517\n",
      "5                 Chaco          1260737           99633           12.653809\n",
      "6                Chubut           669155          224686            2.978178\n",
      "7            Entre Ríos          1447019           78781           18.367614\n",
      "8               Formosa           627790           72066            8.711320\n",
      "9                 Jujuy           811328           53219           15.245082\n",
      "10             La Pampa           372838          143440            2.599261\n",
      "11             La Rioja           418645           89680            4.668209\n",
      "12              Mendoza          2087006          148827           14.023033\n",
      "13             Misiones          1327431           29801           44.543170\n",
      "14              Neuquén           704673           94078            7.490306\n",
      "15            Río Negro           793697          203013            3.909587\n",
      "16                Salta          1510087          155488            9.711920\n",
      "17             San Juan           821835           89651            9.167048\n",
      "18             San Luis           539178           76748            7.025304\n",
      "19           Santa Cruz           411065          243943            1.685086\n",
      "20             Santa Fe          3667505          133007           27.573774\n",
      "21  Santiago del Estero          1026866          136351            7.531049\n",
      "22              Tucumán          1791571           22524           79.540535\n",
      "23     Tierra del Fuego           194926         1002445            0.194451\n",
      "\n",
      "\n",
      "--- Estadísticas: Resumen descriptivo para la columna 'densidad_poblacion' ---\n",
      "count       24.000000\n",
      "mean       658.833811\n",
      "std       3147.028569\n",
      "min          0.194451\n",
      "25%          4.554835\n",
      "50%          9.439484\n",
      "75%         19.742401\n",
      "max      15433.400000\n",
      "Name: densidad_poblacion, dtype: float64\n"
     ]
    }
   ],
   "execution_count": 19
  },
  {
   "metadata": {
    "ExecuteTime": {
     "end_time": "2025-08-30T01:22:44.926206Z",
     "start_time": "2025-08-30T01:22:44.920012Z"
    }
   },
   "cell_type": "code",
   "source": [
    "\n",
    "idx_max = df_integrado['densidad_poblacion'].idxmax()\n",
    "idx_min = df_integrado['densidad_poblacion'].idxmin()\n",
    "provincia_max_densidad = df_integrado.loc[idx_max]\n",
    "provincia_min_densidad = df_integrado.loc[idx_min]\n",
    "\n",
    "print(\"### Análisis de Valores Extremos ###\")\n",
    "\n",
    "print(\"\\n* Valor Máximo (extremadamente alto):\")\n",
    "print(f\"  La densidad de población de {provincia_max_densidad['densidad_poblacion']:.2f} hab/km² corresponde a **{provincia_max_densidad['provincia']}**.\")\n",
    "print(\"  Esto se debe a que es una metrópolis densamente poblada con una superficie muy pequeña.\")\n",
    "\n",
    "print(\"\\n* Valor Mínimo (extremadamente bajo):\")\n",
    "print(f\"  La densidad de población de {provincia_min_densidad['densidad_poblacion']:.2f} hab/km² corresponde a la provincia de **{provincia_min_densidad['provincia']}**.\")\n",
    "print(\"  Este bajo valor se debe a la enorme superficie oficial de la provincia, que incluye la Antártida Argentina.\")\n"
   ],
   "id": "fa06b571ae5cd181",
   "outputs": [
    {
     "name": "stdout",
     "output_type": "stream",
     "text": [
      "### Análisis de Valores Extremos ###\n",
      "\n",
      "* Valor Máximo (extremadamente alto):\n",
      "  La densidad de población de 15433.40 hab/km² corresponde a **Capital Federal**.\n",
      "  Esto se debe a que es una metrópolis densamente poblada con una superficie muy pequeña.\n",
      "\n",
      "* Valor Mínimo (extremadamente bajo):\n",
      "  La densidad de población de 0.19 hab/km² corresponde a la provincia de **Tierra del Fuego**.\n",
      "  Este bajo valor se debe a la enorme superficie oficial de la provincia, que incluye la Antártida Argentina.\n"
     ]
    }
   ],
   "execution_count": 20
  },
  {
   "metadata": {
    "ExecuteTime": {
     "end_time": "2025-08-30T01:46:01.554836Z",
     "start_time": "2025-08-30T01:46:01.547942Z"
    }
   },
   "cell_type": "code",
   "source": [
    "print(\"\\n\\n### Análisis de la variable 'superficie_km2' ###\")\n",
    "\n",
    "print(\"\\n--- Estadísticas de la superficie de las provincias (en km²) ---\")\n",
    "print(df_integrado['superficie_km2'].describe().round(2))\n",
    "\n",
    "print(\"\\n--- Informe breve sobre la variable 'superficie' ---\")\n",
    "print(\"El análisis muestra una gran diversidad en el tamaño de las provincias de Argentina.\")\n",
    "print(f\"La superficie promedio es de aproximadamente {df_integrado['superficie_km2'].mean():.0f} km², sin embargo, la mediana ({df_integrado['superficie_km2'].median():.0f} km2) es significativamente más baja.\")\n",
    "print(\"Esto indica que la mayoría de las provincias son más pequeñas que el promedio, y la existencia de unos pocos territorios muy extensos eleva el valor promedio.\")\n",
    "print(f\"La superficie varía desde {df_integrado['superficie_km2'].min():.0f} km² (Capital Federal) hasta {df_integrado['superficie_km2'].max():.0f} km² (Tierra del Fuego).\")\n"
   ],
   "id": "d49d5bd7a36b8b78",
   "outputs": [
    {
     "name": "stdout",
     "output_type": "stream",
     "text": [
      "\n",
      "\n",
      "### Análisis de la variable 'superficie_km2' ###\n",
      "\n",
      "--- Estadísticas de la superficie de las provincias (en km²) ---\n",
      "count         24.00\n",
      "mean      156719.75\n",
      "std       194090.09\n",
      "min          200.00\n",
      "25%        78272.75\n",
      "50%       101117.50\n",
      "75%       157946.25\n",
      "max      1002445.00\n",
      "Name: superficie_km2, dtype: float64\n",
      "\n",
      "--- Informe breve sobre la variable 'superficie' ---\n",
      "El análisis muestra una gran diversidad en el tamaño de las provincias de Argentina.\n",
      "La superficie promedio es de aproximadamente 156720 km², sin embargo, la mediana (101118 km2) es significativamente más baja.\n",
      "Esto indica que la mayoría de las provincias son más pequeñas que el promedio, y la existencia de unos pocos territorios muy extensos eleva el valor promedio.\n",
      "La superficie varía desde 200 km² (Capital Federal) hasta 1002445 km² (Tierra del Fuego).\n"
     ]
    }
   ],
   "execution_count": 32
  },
  {
   "metadata": {
    "ExecuteTime": {
     "end_time": "2025-08-30T01:44:55.746615Z",
     "start_time": "2025-08-30T01:44:55.731526Z"
    }
   },
   "cell_type": "code",
   "source": [
    "df_poblacion_2010 = df_poblacion[df_poblacion['anio'] == 2010].copy()\n",
    "df_poblacion_clean_2010 = df_poblacion_2010[['provincia','poblacion_total']]\n",
    "df_merged_step1 = pd.merge(df_poblacion_clean_2010, df_poblacion_clean, on='provincia')\n",
    "df_final_2010_2025_compare = pd.merge(df_merged_step1, df_hogares[['provincia', 'superficie_km2']], on='provincia')\n",
    "df_final_2010_2025_compare = df_final_2010_2025_compare[df_final_2010_2025_compare['provincia'] != 'Total País'].copy()\n",
    "df_final_2010_2025_compare.rename(columns={\n",
    "        'poblacion_total_x': 'poblacion_2010',\n",
    "        'poblacion_total_y': 'poblacion_2025'\n",
    "    }, inplace=True)\n",
    "df_final_2010_2025_compare['crecimiento_poblacion'] = df_final_2010_2025_compare['poblacion_2025'] - df_final_2010_2025_compare['poblacion_2010']\n",
    "\n",
    "print(\"--- Tabla Comparativa de Población por Provincia (2010 vs 2025) ---\")\n",
    "print(df_final_2010_2025_compare)\n",
    "provincia_mayor_crecimiento = df_final_2010_2025_compare.loc[df_final_2010_2025_compare['crecimiento_poblacion'].idxmax()]\n",
    "nombre_provincia = provincia_mayor_crecimiento['provincia']\n",
    "valor_crecimiento = provincia_mayor_crecimiento['crecimiento_poblacion']\n",
    "\n",
    "print(\"\\n\\n--- Conclusiones del Análisis de Crecimiento Poblacional ---\")\n",
    "print(\"La tabla muestra la población proyectada para 2025 en comparación con los datos del censo de 2010.\")\n",
    "print(f\"El análisis indica que la provincia con el mayor crecimiento poblacional absoluto entre 2010 y 2025 es **{nombre_provincia}**, con un aumento proyectado de **{valor_crecimiento:,}** habitantes.\".replace(',', '.'))\n"
   ],
   "id": "cb77678d7a9fa9d3",
   "outputs": [
    {
     "name": "stdout",
     "output_type": "stream",
     "text": [
      "--- Tabla Comparativa de Población por Provincia (2010 vs 2025) ---\n",
      "              provincia  poblacion_2010  poblacion_2025  superficie_km2  \\\n",
      "0       Capital Federal         3028481         3086680             200   \n",
      "1          Buenos Aires        15716942        18359753          307571   \n",
      "2             Catamarca          377676          432438          102602   \n",
      "3               Córdoba         3373025         3945677          165321   \n",
      "4            Corrientes         1017731         1165860           88199   \n",
      "5                 Chaco         1080017         1260737           99633   \n",
      "6                Chubut          513433          669155          224686   \n",
      "7            Entre Ríos         1255574         1447019           78781   \n",
      "8               Formosa          551626          627790           72066   \n",
      "9                 Jujuy          683513          811328           53219   \n",
      "10             La Pampa          327028          372838          143440   \n",
      "11             La Rioja          342582          418645           89680   \n",
      "12              Mendoza         1774737         2087006          148827   \n",
      "13             Misiones         1113279         1327431           29801   \n",
      "14              Neuquén          571910          704673           94078   \n",
      "15            Río Negro          648277          793697          203013   \n",
      "16                Salta         1239111         1510087          155488   \n",
      "17             San Juan          696076          821835           89651   \n",
      "18             San Luis          443944          539178           76748   \n",
      "19           Santa Cruz          275452          411065          243943   \n",
      "20             Santa Fe         3257907         3667505          133007   \n",
      "21  Santiago del Estero          879246         1026866          136351   \n",
      "22              Tucumán         1489225         1791571           22524   \n",
      "23     Tierra del Fuego          131661          194926         1002445   \n",
      "\n",
      "    crecimiento_poblacion  \n",
      "0                   58199  \n",
      "1                 2642811  \n",
      "2                   54762  \n",
      "3                  572652  \n",
      "4                  148129  \n",
      "5                  180720  \n",
      "6                  155722  \n",
      "7                  191445  \n",
      "8                   76164  \n",
      "9                  127815  \n",
      "10                  45810  \n",
      "11                  76063  \n",
      "12                 312269  \n",
      "13                 214152  \n",
      "14                 132763  \n",
      "15                 145420  \n",
      "16                 270976  \n",
      "17                 125759  \n",
      "18                  95234  \n",
      "19                 135613  \n",
      "20                 409598  \n",
      "21                 147620  \n",
      "22                 302346  \n",
      "23                  63265  \n",
      "\n",
      "\n",
      "--- Conclusiones del Análisis de Crecimiento Poblacional ---\n",
      "La tabla muestra la población proyectada para 2025 en comparación con los datos del censo de 2010.\n",
      "El análisis indica que la provincia con el mayor crecimiento poblacional absoluto entre 2010 y 2025 es **Buenos Aires**. con un aumento proyectado de **2.642.811** habitantes.\n"
     ]
    }
   ],
   "execution_count": 31
  },
  {
   "metadata": {},
   "cell_type": "code",
   "outputs": [],
   "execution_count": null,
   "source": "",
   "id": "81da5d3139742c42"
  }
 ],
 "metadata": {
  "kernelspec": {
   "display_name": "Python 3",
   "language": "python",
   "name": "python3"
  },
  "language_info": {
   "codemirror_mode": {
    "name": "ipython",
    "version": 2
   },
   "file_extension": ".py",
   "mimetype": "text/x-python",
   "name": "python",
   "nbconvert_exporter": "python",
   "pygments_lexer": "ipython2",
   "version": "2.7.6"
  }
 },
 "nbformat": 4,
 "nbformat_minor": 5
}
